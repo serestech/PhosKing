{
 "cells": [
  {
   "cell_type": "markdown",
   "metadata": {},
   "source": [
    "# PhosKing\n",
    "\n",
    "PhosKing is a predictor of protein phosphorylation that uses ESM-2 embeddings as the basis for the prediction. [ESM-2](https://github.com/facebookresearch/esm) is a large protein language model released in August 2022 by Meta's AI research division, and pretrained weights are available for download.\n",
    "\n",
    "Phosphorylation is one of the most common and widely studied PTMs. It involves the addition of a phosphoryl group to a protein, which commonly alters its structure and regulates a variety of processes, from metabolic activity to signal cascading. This can have a myriad of effects on the activity of cells.\n",
    "\n",
    "The main Phosking model integrates Convolutional, Long-Short-Term Memory (LSTM) and Feedforward (FF) modules to produce its predictions. The input to this model is the ESM-2 embeddings of the target amino acid and a 16 amino acid window to each side of it. The embeddings are given as input to 2 independent convolutional layers, and their outputs are concatenated with the original ESM-2 embeddings. This new tensor is provided to a bidirectional LSTM module of 2 layers, which enables the model to capture contextual information about the protein sequence. Finally, the output of the LSTM module is provided to a FF module to produce the final output. This architecture is inspired by NetSurfP-3.0 ([paper](https://doi.org/10.1093/nar/gkac439)).\n",
    "\n",
    "<center><img width=900 src=\"model.png\"></cneter>"
   ]
  },
  {
   "cell_type": "markdown",
   "metadata": {},
   "source": [
    "### Demo\n",
    "\n",
    "Here is a demonstration of the model. To start, enter a protein sequence and name in the box below and run it (and install the `esm` package if needed).\n",
    "\n",
    "In the output, the symbols mean high confidence (*), medium confidence (+) and poor confidence (.), based on our custom thresholds.\n",
    "\n",
    "**NOTE: The first time you run the prediction, the ESM-2 weights will be downloaded locally. This takes a few minutes.**"
   ]
  },
  {
   "cell_type": "code",
   "execution_count": 1,
   "metadata": {},
   "outputs": [],
   "source": [
    "#!pip install fair-esm  # This should be the only requirement apart from PyTorch and numpy"
   ]
  },
  {
   "cell_type": "code",
   "execution_count": 2,
   "metadata": {},
   "outputs": [
    {
     "name": "stdout",
     "output_type": "stream",
     "text": [
      "Using PyTorch version 1.12.1\n",
      "Using torch device of type cuda: NVIDIA GeForce RTX 3050 Laptop GPU\n",
      "Loading ESM-2 (this will take a few minutes the first time)...\n",
      "Loaded ESM-2. Computing embeddings...\n",
      "Finished computing embeddings\n",
      "Loading PhosKing model\n",
      "Computing predictions\n",
      "Finished\n",
      "- - - - - - - - - - - - - - - - - - - - - - - - - - - - - - - - - - - - - - - - - \n",
      " > seq_name_1\n",
      "                    *           **         +     *       *     **               \n",
      "MNAEPERKFGVVVVGVGRAGSVRMRDLRNPHPSSAFLNLIGFVSRRELGSIDGVQQISLEDALSSQEVEVAYICSESSSH\n",
      "         |10       |20       |30       |40       |50       |60       |70       |80       \n",
      "  *                                                                 *           \n",
      "EDYIRQFLNAGKHVLVEYPMTLSLAAAQELWELAEQKGKVLHEEHVELLMEEFAFLKKEVVGKDLLKGSLLFTAGPLEEE\n",
      "         |90       |100      |110      |120      |130      |140      |150      |160      \n",
      "             *         .             *        +   +                * *    * *   \n",
      "RFGFPAFSGISRLTWLVSLFGELSLVSATLEERKEDQYMKMTVCLETEKKSPLSWIEEKGPGLKRNRYLSFHFKSGSLEN\n",
      "         |170      |180      |190      |200      |210      |220      |230      |240      \n",
      "                          *                       *     \n",
      "VPNVGVNKNIFLKDQNIFVQKLLGQFSEKELAAEKKRILHCLGLAEEIQKYCCSRK\n",
      "         |250      |260      |270      |280      |290      \n",
      "\n",
      "Pos.  Score       Pos.  Score       Pos.  Score       Pos.  Score       Pos.  Score       \n",
      "21    0.998 *  |  33    0.999 *  |  34    0.994 *  |  44    0.988 +  |  50    1     *  \n",
      "58    0.993 *  |  64    1     *  |  65    0.998 *  |  72    0        |  75    0        \n",
      "77    0        |  78    0        |  79    0        |  83    1     *  |  98    0.011    \n",
      "101   0        |  103   0.369    |  149   1     *  |  153   0        |  168   0.016    \n",
      "171   0        |  174   1     *  |  178   0.007    |  184   0.757 .  |  187   0.001    \n",
      "189   0.001    |  198   1     *  |  202   0.529    |  207   0.953 +  |  211   0.979 +  \n",
      "214   0        |  228   1     *  |  230   1     *  |  235   0.995 *  |  237   1     *  \n",
      "267   0.997 *  |  291   1     *  |  294   0.009    \n",
      "\n",
      "- - - - - - - - - - - - - - - - - - - - - - - - - - - - - - - - - - - - - - - - - \n",
      " > seq_name_2\n",
      "                                                                                \n",
      "MELENIVANTVLLKAREGGGGNRKGKSKKWRQMLQFPHISQCEELRLSLERDYHSLCERQPIGRLLFREFCATRPELSRC\n",
      "         |10       |20       |30       |40       |50       |60       |70       |80       \n",
      "                                                                                \n",
      "VAFLDGVAEYEVTPDDKRKACGRQLTQNFLSHTGPDLIPEVPRQLVTNCTQRLEQGPCKDLFQELTRLTHEYLSVAPFAD\n",
      "         |90       |100      |110      |120      |130      |140      |150      |160      \n",
      "                                                                                \n",
      "YLDSIYFNRFLQWKWLERQPVTKNTFRQYRVLGKGGFGEVCACQVRATGKMYACKKLEKKRIKKRKGEAMALNEKQILEK\n",
      "         |170      |180      |190      |200      |210      |220      |230      |240      \n",
      "       *      *                                                                 \n",
      "VNSRFVVSLAYAYETKDALCLVLTLMNGGDLKFHIYHMGQAGFPEARAVFYAAEICCGLEDLHRERIVYRDLKPENILLD\n",
      "         |250      |260      |270      |280      |290      |300      |310      |320      \n",
      "                           +                                                    \n",
      "DHGHIRISDLGLAVHVPEGQTIKGRVGTVGYMAPEVVKNERYTFSPDWWALGCLLYEMIAGQSPFQQRKKKIKREEVERL\n",
      "         |330      |340      |350      |360      |370      |380      |390      |400      \n",
      "                                     .                                          \n",
      "VKEVPEEYSERFSPQARSLCSQLLCKDPAERLGCRGGSAREVKEHPLFKKLNFKRLGAGMLEPPFKPDPQAIYCKDVLDI\n",
      "         |410      |420      |430      |440      |450      |460      |470      |480      \n",
      "   *+                                                                       +   \n",
      "EQFSTVKGVELEPTDQDFYQKFATGSVPIPWQNEMVETECFQELNVFGLDGSVPPDLDWKGQPPAPPKKGLLQRLFSRQD\n",
      "         |490      |500      |510      |520      |530      |540      |550      |560      \n",
      "     + +        \n",
      "CCGNCSDSEEELPTRL\n",
      "         |570      \n",
      "\n",
      "Pos.  Score       Pos.  Score       Pos.  Score       Pos.  Score       Pos.  Score       \n",
      "10    0.334    |  27    0.001    |  40    0.003    |  48    0.004    |  53    0        \n",
      "55    0.002    |  73    0        |  78    0.001    |  90    0.612    |  93    0.145    \n",
      "106   0.001    |  111   0        |  113   0        |  127   0        |  130   0.004    \n",
      "146   0        |  149   0        |  152   0        |  154   0        |  161   0        \n",
      "164   0        |  166   0        |  182   0        |  185   0        |  189   0        \n",
      "208   0        |  212   0        |  243   0        |  248   0.994 *  |  251   0.002    \n",
      "253   0.096    |  255   1     *  |  264   0        |  276   0        |  291   0        \n",
      "309   0        |  328   0        |  341   0.114    |  348   0.955 +  |  351   0.004    \n",
      "362   0        |  363   0        |  365   0        |  376   0        |  383   0        \n",
      "408   0        |  409   0        |  413   0        |  418   0.288    |  421   0.016    \n",
      "438   0.83  .  |  473   0.003    |  484   1     *  |  485   0.985 +  |  494   0        \n",
      "499   0.002    |  504   0        |  506   0.038    |  518   0        |  532   0.018    \n",
      "557   0.961 +  |  566   0.943 +  |  568   0.982 +  |  574   0.003    \n",
      "\n",
      "- - - - - - - - - - - - - - - - - - - - - - - - - - - - - - - - - - - - - - - - - \n",
      " > seq_name_3\n",
      "    .   +                                     *           +               *     \n",
      "MPNPSCTSSPGPLPEEIRNLLADVETFVADTLKGENLSKKAKEKRESLIKKIKDVKSVYLQEFQDKGDAEDGDEYDDPFA\n",
      "         |10       |20       |30       |40       |50       |60       |70       |80       \n",
      "    + +  *  *       .                                                           \n",
      "GPADTISLASERYDKDDDGPSDGNQFPPIAAQDLPFVIKAGYLEKRRKDHSFLGFEWQKRWCALSKTVFYYYGSDKDKQQ\n",
      "         |90       |100      |110      |120      |130      |140      |150      |160      \n",
      "                                    +                         *             *   \n",
      "KGEFAIDGYDVRMNNTLRKDGKKDCCFEICAPDKRIYQFTAASPKDAEEWVQQLKFILQDLGSDVIPEDDEERGELYDDV\n",
      "         |170      |180      |190      |200      |210      |220      |230      |240      \n",
      "       +   *       *           +         +  *    +      +                       \n",
      "DHPAAVSSPQRSQPIDDEIYEELPEEEEDTASVKMDEQGKGSRDSVHHTSGDKSTDYANFYQGLWDCTGALSDELSFKRG\n",
      "         |250      |260      |270      |280      |290      |300      |310      |320      \n",
      "                                   +  \n",
      "DVIYILSKEYNRYGWWVGEMKGAIGLVPKAYLMEMYDI\n",
      "         |330      |340      |350      \n",
      "\n",
      "Pos.  Score       Pos.  Score       Pos.  Score       Pos.  Score       Pos.  Score       \n",
      "5     0.897 .  |  7     0.404    |  8     0.649    |  9     0.989 +  |  26    0.137    \n",
      "31    0        |  38    0.01     |  47    0.995 *  |  57    0.34     |  59    0.958 +  \n",
      "75    1     *  |  85    0.939 +  |  87    0.987 +  |  90    0.998 *  |  93    0.999 *  \n",
      "101   0.879 .  |  122   0        |  131   0.006    |  145   0        |  147   0.007    \n",
      "150   0.002    |  151   0.001    |  152   0        |  154   0        |  169   0        \n",
      "176   0.001    |  197   0.984 +  |  200   0.003    |  203   0.001    |  223   0.999 *  \n",
      "237   0.998 *  |  247   0.707    |  248   0.987 +  |  252   0.991 *  |  260   0.999 *  \n",
      "270   0.4      |  272   0.955 +  |  282   0.94  +  |  285   0.996 *  |  289   0.473    \n",
      "290   0.917 +  |  294   0.699    |  295   0.001    |  297   0.958 +  |  301   0        \n",
      "308   0        |  312   0        |  316   0.001    |  324   0.005    |  327   0        \n",
      "330   0        |  333   0        |  351   0.215    |  356   0.984 +  \n",
      "\n"
     ]
    }
   ],
   "source": [
    "sequences = [('seq_name_1', 'MNAEPERKFGVVVVGVGRAGSVRMRDLRNPHPSSAFLNLIGFVSRRELGSIDGVQQISLEDALSSQEVEVAYICSESSSHEDYIRQFLNAGKHVLVEYPMTLSLAAAQELWELAEQKGKVLHEEHVELLMEEFAFLKKEVVGKDLLKGSLLFTAGPLEEERFGFPAFSGISRLTWLVSLFGELSLVSATLEERKEDQYMKMTVCLETEKKSPLSWIEEKGPGLKRNRYLSFHFKSGSLENVPNVGVNKNIFLKDQNIFVQKLLGQFSEKELAAEKKRILHCLGLAEEIQKYCCSRK'),\n",
    "             ('seq_name_2', 'MELENIVANTVLLKAREGGGGNRKGKSKKWRQMLQFPHISQCEELRLSLERDYHSLCERQPIGRLLFREFCATRPELSRCVAFLDGVAEYEVTPDDKRKACGRQLTQNFLSHTGPDLIPEVPRQLVTNCTQRLEQGPCKDLFQELTRLTHEYLSVAPFADYLDSIYFNRFLQWKWLERQPVTKNTFRQYRVLGKGGFGEVCACQVRATGKMYACKKLEKKRIKKRKGEAMALNEKQILEKVNSRFVVSLAYAYETKDALCLVLTLMNGGDLKFHIYHMGQAGFPEARAVFYAAEICCGLEDLHRERIVYRDLKPENILLDDHGHIRISDLGLAVHVPEGQTIKGRVGTVGYMAPEVVKNERYTFSPDWWALGCLLYEMIAGQSPFQQRKKKIKREEVERLVKEVPEEYSERFSPQARSLCSQLLCKDPAERLGCRGGSAREVKEHPLFKKLNFKRLGAGMLEPPFKPDPQAIYCKDVLDIEQFSTVKGVELEPTDQDFYQKFATGSVPIPWQNEMVETECFQELNVFGLDGSVPPDLDWKGQPPAPPKKGLLQRLFSRQDCCGNCSDSEEELPTRL'),\n",
    "             ('seq_name_3', 'MPNPSCTSSPGPLPEEIRNLLADVETFVADTLKGENLSKKAKEKRESLIKKIKDVKSVYLQEFQDKGDAEDGDEYDDPFAGPADTISLASERYDKDDDGPSDGNQFPPIAAQDLPFVIKAGYLEKRRKDHSFLGFEWQKRWCALSKTVFYYYGSDKDKQQKGEFAIDGYDVRMNNTLRKDGKKDCCFEICAPDKRIYQFTAASPKDAEEWVQQLKFILQDLGSDVIPEDDEERGELYDDVDHPAAVSSPQRSQPIDDEIYEELPEEEEDTASVKMDEQGKGSRDSVHHTSGDKSTDYANFYQGLWDCTGALSDELSFKRGDVIYILSKEYNRYGWWVGEMKGAIGLVPKAYLMEMYDI')]\n",
    "\n",
    "import phosking.predict as phosking\n",
    "\n",
    "# Turn on force_cpu if you run out of GPU memory (for normal sequences, even laptop GPUs should \n",
    "# be able to handle it just fine, but ESM's memory usage grows a lot with sequence length)\n",
    "predictions = phosking.predict(sequences, force_cpu=False)\n",
    "phosking.format_predictions(sequences, predictions)"
   ]
  }
 ],
 "metadata": {
  "kernelspec": {
   "display_name": "Python 3.9.7 ('base')",
   "language": "python",
   "name": "python3"
  },
  "language_info": {
   "codemirror_mode": {
    "name": "ipython",
    "version": 3
   },
   "file_extension": ".py",
   "mimetype": "text/x-python",
   "name": "python",
   "nbconvert_exporter": "python",
   "pygments_lexer": "ipython3",
   "version": "3.9.7"
  },
  "orig_nbformat": 4,
  "vscode": {
   "interpreter": {
    "hash": "5b464c2794d201da81f8e876b592816e73e746e4af7dbfc6ac6ec82ee3a9bb1b"
   }
  }
 },
 "nbformat": 4,
 "nbformat_minor": 2
}
