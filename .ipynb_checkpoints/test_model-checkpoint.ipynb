{
 "cells": [
  {
   "cell_type": "code",
   "execution_count": 1,
   "metadata": {},
   "outputs": [
    {
     "name": "stdout",
     "output_type": "stream",
     "text": [
      "Using torch version 1.13.0+cu117\n"
     ]
    }
   ],
   "source": [
    "import sys, os\n",
    "import torch\n",
    "print(f'Using torch version {torch.__version__}')\n",
    "from importlib import import_module\n",
    "from phosking.dataset import ESM_Embeddings_test\n",
    "import numpy as np"
   ]
  },
  {
   "cell_type": "markdown",
   "metadata": {},
   "source": [
    "This notebook is a simplified copy of the main file \"phosking/test_model.py\", and runs the best model for the sequences found in the corresponding fasta file (fasta_file below)\n",
    "\n",
    "\n",
    "Parameters for testing:"
   ]
  },
  {
   "cell_type": "code",
   "execution_count": 2,
   "metadata": {},
   "outputs": [],
   "source": [
    "# The following example parameters are equivalent for running:\n",
    "# > python3 phosking/test_model.py -i data/test/small_test.fsa -p 1280 -m models/CNN_RNN.py -n CNN_RNN_FFNN -a 1280,512,1024 -aaw 16 -sd states_dicts/CNN_RNN.pth\n",
    "\n",
    "model_file = 'models/CNN_RNN.py'\n",
    "model_name = 'CNN_RNN_FFNN'\n",
    "state_dict = 'states_dicts/CNN_RNN.pth'\n",
    "model_args = (1280, 512, 1024)\n",
    "params = 1280\n",
    "\n",
    "fasta_file = 'data/test/small_test.fsa' # Example file with 3 sequences\n",
    "aa_window = 16\n",
    "two_dims = False\n",
    "mode = 'phospho'\n",
    "force_cpu = False\n",
    "\n",
    "# In order to try other sequences, modify the 'data/test/small_test.fsa' file or change the file name"
   ]
  },
  {
   "cell_type": "markdown",
   "metadata": {},
   "source": [
    "Model loading, sequence reading, computing of embeddings and test dataset creation:"
   ]
  },
  {
   "cell_type": "code",
   "execution_count": 3,
   "metadata": {},
   "outputs": [
    {
     "name": "stdout",
     "output_type": "stream",
     "text": [
      "Using python env in /usr/bin/python3.11\n",
      "Using torch device of type cuda: NVIDIA GeForce GTX 1660 Ti with Max-Q Design\n",
      "Reading fasta...\n",
      "Found 3 sequences!\n",
      "Computing embeddings...\n",
      "3 embeddings computed!\r"
     ]
    }
   ],
   "source": [
    "print(f'Using python env in {sys.executable}')\n",
    "\n",
    "# Hacky thing to import the model by storing the filename and model in strings\n",
    "model_dir = os.path.dirname(model_file)\n",
    "sys.path.append(model_dir)\n",
    "model_module_name = os.path.basename(model_file)[:-3]\n",
    "model_module = import_module(model_module_name)\n",
    "model_class = getattr(model_module, model_name)\n",
    "\n",
    "device = torch.device('cuda' if not force_cpu and torch.cuda.is_available() else 'cpu')\n",
    "print(f'Using torch device of type {device.type}{\": \" + torch.cuda.get_device_name(device) if device.type == \"cuda\" else \"\"}')\n",
    "\n",
    "if model_args:\n",
    "    model: torch.nn.Module = model_class(*model_args)\n",
    "else:\n",
    "    model: torch.nn.Module = model_class()\n",
    "model = model.to(device)\n",
    "state_dict = torch.load(state_dict, map_location=device)\n",
    "model.load_state_dict(state_dict)\n",
    "model.eval()\n",
    "\n",
    "dataset = ESM_Embeddings_test(fasta_file=fasta_file,\n",
    "                              params=params,\n",
    "                              device=device,\n",
    "                              aa_window=aa_window,\n",
    "                              two_dims=two_dims,\n",
    "                              mode=mode\n",
    ")"
   ]
  },
  {
   "cell_type": "markdown",
   "metadata": {},
   "source": [
    "Model testing and printing of the output: it represents the phosphorylations through the sequence and the list of phosphorylable aminoacids with their scores.\n",
    "\n",
    "Note that the chosen threshold for high significance of the score is 0.99 (' \\* '), followed by other lower significant thresholds at 0.9 (' + ') and 0.75 (' . '). This is decision is based on the observed accuracies at various thresholds."
   ]
  },
  {
   "cell_type": "code",
   "execution_count": 4,
   "metadata": {
    "scrolled": false
   },
   "outputs": [
    {
     "name": "stdout",
     "output_type": "stream",
     "text": [
      "- - - - - - - - - - - - - - - - - - - - - - - - - - - - - - - - - - - - - - - - - \n",
      " > P53004\n",
      "                    *           **         +     *       *     **               \n",
      "MNAEPERKFGVVVVGVGRAGSVRMRDLRNPHPSSAFLNLIGFVSRRELGSIDGVQQISLEDALSSQEVEVAYICSESSSH\n",
      "         |10       |20       |30       |40       |50       |60       |70       |80       \n",
      "  *                                                                 *           \n",
      "EDYIRQFLNAGKHVLVEYPMTLSLAAAQELWELAEQKGKVLHEEHVELLMEEFAFLKKEVVGKDLLKGSLLFTAGPLEEE\n",
      "         |90       |100      |110      |120      |130      |140      |150      |160      \n",
      "             *         .             *        +   +                * *    * *   \n",
      "RFGFPAFSGISRLTWLVSLFGELSLVSATLEERKEDQYMKMTVCLETEKKSPLSWIEEKGPGLKRNRYLSFHFKSGSLEN\n",
      "         |170      |180      |190      |200      |210      |220      |230      |240      \n",
      "                          *                       *     \n",
      "VPNVGVNKNIFLKDQNIFVQKLLGQFSEKELAAEKKRILHCLGLAEEIQKYCCSRK\n",
      "         |250      |260      |270      |280      |290      |300      |310      |320      \n",
      "\n",
      "Pos.  Score       Pos.  Score       Pos.  Score       Pos.  Score       Pos.  Score       \n",
      "21    0.998 *  |  33    0.999 *  |  34    0.994 *  |  44    0.988 +  |  50    1     *  \n",
      "58    0.992 *  |  64    1     *  |  65    0.998 *  |  72    0        |  75    0        \n",
      "77    0        |  78    0        |  79    0        |  83    1     *  |  98    0.011    \n",
      "101   0        |  103   0.369    |  149   1     *  |  153   0        |  168   0.016    \n",
      "171   0        |  174   1     *  |  178   0.007    |  184   0.757 .  |  187   0.001    \n",
      "189   0.001    |  198   1     *  |  202   0.528    |  207   0.953 +  |  211   0.979 +  \n",
      "214   0        |  228   1     *  |  230   1     *  |  235   0.995 *  |  237   1     *  \n",
      "267   0.997 *  |  291   1     *  |  294   0.009    \n",
      "\n",
      "- - - - - - - - - - - - - - - - - - - - - - - - - - - - - - - - - - - - - - - - - \n",
      " > P43250\n",
      "                                                                                \n",
      "MELENIVANTVLLKAREGGGGNRKGKSKKWRQMLQFPHISQCEELRLSLERDYHSLCERQPIGRLLFREFCATRPELSRC\n",
      "         |10       |20       |30       |40       |50       |60       |70       |80       \n",
      "                                                                                \n",
      "VAFLDGVAEYEVTPDDKRKACGRQLTQNFLSHTGPDLIPEVPRQLVTNCTQRLEQGPCKDLFQELTRLTHEYLSVAPFAD\n",
      "         |90       |100      |110      |120      |130      |140      |150      |160      \n",
      "                                                                                \n",
      "YLDSIYFNRFLQWKWLERQPVTKNTFRQYRVLGKGGFGEVCACQVRATGKMYACKKLEKKRIKKRKGEAMALNEKQILEK\n",
      "         |170      |180      |190      |200      |210      |220      |230      |240      \n",
      "       *      *                                                                 \n",
      "VNSRFVVSLAYAYETKDALCLVLTLMNGGDLKFHIYHMGQAGFPEARAVFYAAEICCGLEDLHRERIVYRDLKPENILLD\n",
      "         |250      |260      |270      |280      |290      |300      |310      |320      \n",
      "                           +                                                    \n",
      "DHGHIRISDLGLAVHVPEGQTIKGRVGTVGYMAPEVVKNERYTFSPDWWALGCLLYEMIAGQSPFQQRKKKIKREEVERL\n",
      "         |330      |340      |350      |360      |370      |380      |390      |400      \n",
      "                                     .                                          \n",
      "VKEVPEEYSERFSPQARSLCSQLLCKDPAERLGCRGGSAREVKEHPLFKKLNFKRLGAGMLEPPFKPDPQAIYCKDVLDI\n",
      "         |410      |420      |430      |440      |450      |460      |470      |480      \n",
      "   *+                                                                       +   \n",
      "EQFSTVKGVELEPTDQDFYQKFATGSVPIPWQNEMVETECFQELNVFGLDGSVPPDLDWKGQPPAPPKKGLLQRLFSRQD\n",
      "         |490      |500      |510      |520      |530      |540      |550      |560      \n",
      "     + +        \n",
      "CCGNCSDSEEELPTRL\n",
      "         |570      |580      |590      |600      |610      |620      |630      |640      \n",
      "\n",
      "Pos.  Score       Pos.  Score       Pos.  Score       Pos.  Score       Pos.  Score       \n",
      "10    0.334    |  27    0.001    |  40    0.003    |  48    0.004    |  53    0        \n",
      "55    0.002    |  73    0        |  78    0.001    |  90    0.611    |  93    0.145    \n",
      "106   0.001    |  111   0        |  113   0        |  127   0        |  130   0.004    \n",
      "146   0        |  149   0        |  152   0        |  154   0        |  161   0        \n",
      "164   0        |  166   0        |  182   0        |  185   0        |  189   0        \n",
      "208   0        |  212   0        |  243   0        |  248   0.994 *  |  251   0.002    \n",
      "253   0.096    |  255   1     *  |  264   0        |  276   0        |  291   0        \n",
      "309   0        |  328   0        |  341   0.114    |  348   0.955 +  |  351   0.004    \n",
      "362   0        |  363   0        |  365   0        |  376   0        |  383   0        \n",
      "408   0        |  409   0        |  413   0        |  418   0.289    |  421   0.016    \n",
      "438   0.83  .  |  473   0.003    |  484   1     *  |  485   0.986 +  |  494   0        \n",
      "499   0.002    |  504   0        |  506   0.038    |  518   0        |  532   0.018    \n",
      "557   0.96  +  |  566   0.943 +  |  568   0.982 +  |  574   0.003    \n",
      "\n",
      "- - - - - - - - - - - - - - - - - - - - - - - - - - - - - - - - - - - - - - - - - \n",
      " > Q3UND0\n",
      "    .   +                                     *           +               *     \n",
      "MPNPSCTSSPGPLPEEIRNLLADVETFVADTLKGENLSKKAKEKRESLIKKIKDVKSVYLQEFQDKGDAEDGDEYDDPFA\n",
      "         |10       |20       |30       |40       |50       |60       |70       |80       \n",
      "    + +  *  *       .                                                           \n",
      "GPADTISLASERYDKDDDGPSDGNQFPPIAAQDLPFVIKAGYLEKRRKDHSFLGFEWQKRWCALSKTVFYYYGSDKDKQQ\n",
      "         |90       |100      |110      |120      |130      |140      |150      |160      \n",
      "                                    +                         *             *   \n",
      "KGEFAIDGYDVRMNNTLRKDGKKDCCFEICAPDKRIYQFTAASPKDAEEWVQQLKFILQDLGSDVIPEDDEERGELYDDV\n",
      "         |170      |180      |190      |200      |210      |220      |230      |240      \n",
      "       +   *       *           +         +  *    +      +                       \n",
      "DHPAAVSSPQRSQPIDDEIYEELPEEEEDTASVKMDEQGKGSRDSVHHTSGDKSTDYANFYQGLWDCTGALSDELSFKRG\n",
      "         |250      |260      |270      |280      |290      |300      |310      |320      \n",
      "                                   +  \n",
      "DVIYILSKEYNRYGWWVGEMKGAIGLVPKAYLMEMYDI\n",
      "         |330      |340      |350      |360      |370      |380      |390      |400      \n",
      "\n",
      "Pos.  Score       Pos.  Score       Pos.  Score       Pos.  Score       Pos.  Score       \n",
      "5     0.897 .  |  7     0.404    |  8     0.649    |  9     0.989 +  |  26    0.138    \n",
      "31    0        |  38    0.01     |  47    0.995 *  |  57    0.34     |  59    0.959 +  \n",
      "75    1     *  |  85    0.939 +  |  87    0.987 +  |  90    0.998 *  |  93    0.999 *  \n",
      "101   0.879 .  |  122   0        |  131   0.006    |  145   0        |  147   0.007    \n",
      "150   0.002    |  151   0.001    |  152   0        |  154   0        |  169   0        \n",
      "176   0.001    |  197   0.984 +  |  200   0.003    |  203   0.001    |  223   0.999 *  \n",
      "237   0.998 *  |  247   0.707    |  248   0.987 +  |  252   0.991 *  |  260   0.999 *  \n",
      "270   0.399    |  272   0.955 +  |  282   0.94  +  |  285   0.996 *  |  289   0.473    \n",
      "290   0.917 +  |  294   0.7      |  295   0.001    |  297   0.958 +  |  301   0        \n",
      "308   0        |  312   0        |  316   0.001    |  324   0.005    |  327   0        \n",
      "330   0        |  333   0        |  351   0.215    |  356   0.984 +  \n",
      "\n"
     ]
    }
   ],
   "source": [
    "predictions = dict()\n",
    "for seq_ID, seq in dataset.seq_data:\n",
    "    if seq_ID in dataset.IDs():\n",
    "        with torch.no_grad():\n",
    "            idxs, inputs = dataset[seq_ID]\n",
    "            inputs = inputs.to(device)\n",
    "\n",
    "            preds = model(inputs)\n",
    "            preds = preds.detach().cpu().numpy().flatten()\n",
    "\n",
    "        predictions[seq_ID] = dict()\n",
    "        for i,pos in enumerate(idxs):\n",
    "            predictions[seq_ID][pos] = preds[i]\n",
    "\n",
    "        # Printing results per sequence\n",
    "        dots = ''\n",
    "        i = 0\n",
    "        for pos in range(len(seq)):\n",
    "            if pos + 1 in idxs:\n",
    "                if preds[i] > 0.99:\n",
    "                    dots += '*'\n",
    "                elif preds[i] > 0.9:\n",
    "                    dots += '+'\n",
    "                elif preds[i] > 0.75:\n",
    "                    dots += '.'\n",
    "                else:\n",
    "                    dots += ' '\n",
    "                i += 1\n",
    "            else:\n",
    "                dots += ' '\n",
    "        \n",
    "        print('- ' * 41 + '\\n > ' + seq_ID)\n",
    "\n",
    "        for i in range(len(seq)//80+1):\n",
    "            l = i*80\n",
    "            print(dots[l:l+80])\n",
    "            print(seq[l:l+80])\n",
    "            print(' '*9+'|'+'|'.join(list('{:<9}'.format(l+j*10) for j in range(1,9))))\n",
    "        \n",
    "        print('')\n",
    "        print('Pos.  Score       '*5)\n",
    "        for i,pos in enumerate(idxs):\n",
    "            if i%5 == 0:\n",
    "                if i != 0:\n",
    "                    print('')\n",
    "            else:\n",
    "                print('|', end='  ')\n",
    "            if preds[i] > 0.99:\n",
    "                dot = '*'\n",
    "            elif preds[i] > 0.9:\n",
    "                dot = '+'\n",
    "            elif preds[i] > 0.75:\n",
    "                dot = '.'\n",
    "            else:\n",
    "                dot = ' '\n",
    "            print('{:<6}{:<5.3g} {}'.format(pos, round(preds[i], 3), dot), end='  ')\n",
    "        print('\\n')\n",
    "        \n",
    "    else:\n",
    "        print('- ' * 41 + '\\n > ' + seq_ID)\n",
    "        print('No phosphorylable aminoacids in this sequence...')"
   ]
  },
  {
   "cell_type": "code",
   "execution_count": null,
   "metadata": {},
   "outputs": [],
   "source": []
  }
 ],
 "metadata": {
  "kernelspec": {
   "display_name": "Python 3 (ipykernel)",
   "language": "python",
   "name": "python3"
  },
  "language_info": {
   "codemirror_mode": {
    "name": "ipython",
    "version": 3
   },
   "file_extension": ".py",
   "mimetype": "text/x-python",
   "name": "python",
   "nbconvert_exporter": "python",
   "pygments_lexer": "ipython3",
   "version": "3.11.1"
  },
  "vscode": {
   "interpreter": {
    "hash": "c63d8c7d738c2960218a10995aedf0a7f67a49a231e71037adf0440953cdb45b"
   }
  }
 },
 "nbformat": 4,
 "nbformat_minor": 2
}
